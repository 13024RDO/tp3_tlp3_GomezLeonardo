{
 "cells": [
  {
   "cell_type": "markdown",
   "id": "498731c6",
   "metadata": {},
   "source": [
    "# Trabajo Practico n3 - Trabajando con Lists y Sets.\n",
    "## Criterios de evaluación.\n",
    "\n",
    "* Se deben utilizar nombres de variables descriptivos y claros (Utilizar la nomeclatura correspondiente para los nombres de variables).\n",
    "* Comentarios claros y concisos que expliquen el propósito de cada sección del código.\n",
    "* Utilizar mensajes de commit **descriptivos**. (Puedes utilizar la extension CONVENTIONAL COMMIT de VS-CODE). \n",
    "* Entrega en tiempo y forma.\n",
    "* Todo el código desarrollado debe ser subido a un repositorio en GitHub (el nombre del repositorio de seguir la siguiente estructura: tp3_tlp3_nombre_apellido).\n",
    "* Para resolver las actividades se debe insertar casillas de codigo entre cada actividad del cuaderno de Jupyter\n",
    "* El repositorio de GitHub debe incluir un archivo README.md con las instrucciones necesarias para la correcta ejecución del código.\n",
    "\n",
    "### ¡Importante!\n",
    "**El incumplimiento de los criterios de evaluación restará puntos en la nota final del práctico!**"
   ]
  },
  {
   "cell_type": "markdown",
   "id": "b361a7b6",
   "metadata": {},
   "source": [
    "### Actividad 1: \n",
    "Suma de todos los elementos de una lista, utilizando bucles repetitivos (for, while)."
   ]
  },
  {
   "cell_type": "code",
   "execution_count": null,
   "id": "26009294",
   "metadata": {},
   "outputs": [
    {
     "name": "stdout",
     "output_type": "stream",
     "text": [
      "Suma total: 204\n"
     ]
    }
   ],
   "source": [
    "\n",
    "# todo:\n",
    "\n",
    "numbers = [14, 23, 34, 48, 85]\n",
    "suma = 0\n",
    "\n",
    "for num in numbers: #Recorre la lista y suma todos sus elementos\n",
    "    suma += num\n",
    "\n",
    "print(\"Suma total:\", suma)"
   ]
  },
  {
   "cell_type": "markdown",
   "id": "0c239195",
   "metadata": {},
   "source": [
    "### Actividad 2: \n",
    "Encontrar el número más grande en una lista, utilizando bucles repetitivos (for, while)."
   ]
  },
  {
   "cell_type": "code",
   "execution_count": null,
   "id": "3611d25a",
   "metadata": {},
   "outputs": [
    {
     "name": "stdout",
     "output_type": "stream",
     "text": [
      "Lista generada: [87, 77, 31, 53, 31]\n",
      "El número más grande es: 87\n"
     ]
    }
   ],
   "source": [
    "\n",
    "# todo:\n",
    "\n",
    "from random import randint\n",
    "random_numbers =[randint(1, 100) for i in range(5)] #Genera la lista con numeros ramdons \n",
    "print(\"Lista generada: \", random_numbers)\n",
    "\n",
    "maximo = 0\n",
    "for numero in random_numbers: #Recorre la lista y compara los elementos \n",
    "    if numero > maximo:\n",
    "        maximo = numero\n",
    "\n",
    "print(\"El número más grande es: \", maximo)\n",
    "\n"
   ]
  },
  {
   "cell_type": "markdown",
   "id": "70a24b97",
   "metadata": {},
   "source": [
    "### Actividad 3:\n",
    "Contar cuántas veces aparece un número específico. Utiliza estructuras repetitivas para la resolucion de este ejercicio. "
   ]
  },
  {
   "cell_type": "code",
   "execution_count": 37,
   "id": "a9c8ebc7",
   "metadata": {},
   "outputs": [
    {
     "name": "stdout",
     "output_type": "stream",
     "text": [
      "Lista generada:  [5, 173, 160, 12, 26, 19, 153, 176, 81, 131, 166, 140, 82, 37, 99, 86, 41, 193, 190, 139]\n",
      "El numero 5 aparece 1 veces.\n",
      "El numero 173 aparece 1 veces.\n",
      "El numero 160 aparece 1 veces.\n",
      "El numero 12 aparece 1 veces.\n",
      "El numero 26 aparece 1 veces.\n",
      "El numero 19 aparece 1 veces.\n",
      "El numero 153 aparece 1 veces.\n",
      "El numero 176 aparece 1 veces.\n",
      "El numero 81 aparece 1 veces.\n",
      "El numero 131 aparece 1 veces.\n",
      "El numero 166 aparece 1 veces.\n",
      "El numero 140 aparece 1 veces.\n",
      "El numero 82 aparece 1 veces.\n",
      "El numero 37 aparece 1 veces.\n",
      "El numero 99 aparece 1 veces.\n",
      "El numero 86 aparece 1 veces.\n",
      "El numero 41 aparece 1 veces.\n",
      "El numero 193 aparece 1 veces.\n",
      "El numero 190 aparece 1 veces.\n",
      "El numero 139 aparece 1 veces.\n"
     ]
    }
   ],
   "source": [
    "\n",
    "# todo:\n",
    "from random import randint\n",
    "lists = [randint(1, 200) for i in range(20)] \n",
    "\n",
    "print(\"Lista generada: \", lists)\n",
    "\n",
    "conteo = {} # lista vacia donde se guardara el conteo de los elementos \n",
    "\n",
    "\n",
    "for numero in lists:\n",
    "    if numero not in conteo: #Recorre la lista contando los elementos, si se repite los suma y si no empieza a contarlo \n",
    "        conteo[numero] = 1\n",
    "    else:\n",
    "        conteo[numero] += 1\n",
    "\n",
    "\n",
    "for numero in conteo:\n",
    "    print(f\"El numero {numero} aparece {conteo[numero]} veces.\")"
   ]
  },
  {
   "cell_type": "markdown",
   "id": "b8dac397",
   "metadata": {},
   "source": [
    "### Actividad 4: \n",
    "Invertir una lista sin usar reverse() ni [::-1]"
   ]
  },
  {
   "cell_type": "code",
   "execution_count": null,
   "id": "d04fd492",
   "metadata": {},
   "outputs": [
    {
     "name": "stdout",
     "output_type": "stream",
     "text": [
      "Lista:  [35, 42, 6, 23, 45, 12, 13, 9]\n",
      "Lista invertida:  [9, 13, 12, 45, 23, 6, 42, 35]\n"
     ]
    }
   ],
   "source": [
    "\n",
    "# todo:\n",
    "\n",
    "lists_two = [randint(1, 50) for i in range(8)]\n",
    "print(\"Lista: \", lists_two)\n",
    "print(\"Lista invertida: \", lists_two[::-1]) #Imprime la lista generada empezando por el final hasta el princio de la lista"
   ]
  },
  {
   "cell_type": "markdown",
   "id": "8889d0f2",
   "metadata": {},
   "source": [
    "### Actividad 5:\n",
    "Sumar los elementos de dos listas posición por posición, utilizando solo bucles repetititivos (for,while)."
   ]
  },
  {
   "cell_type": "code",
   "execution_count": null,
   "id": "bc0ec844",
   "metadata": {},
   "outputs": [
    {
     "name": "stdout",
     "output_type": "stream",
     "text": [
      "Suma posicion por posicion:  [3, 7, 11, 16, 18]\n"
     ]
    }
   ],
   "source": [
    "\n",
    "# todo:\n",
    "\n",
    "lists_one = [ 2,4,6,7,8 ]\n",
    "lists_two = [ 1,3,5,9,10 ]\n",
    "resultado = []\n",
    "\n",
    "for i in range(len(lists_one)): #Suma todos los elementos de acuerdo a su posicion i\n",
    "    suma = lists_one[i] + lists_two[i]\n",
    "    resultado.append(suma)\n",
    "\n",
    "print(\"Suma posicion por posicion: \", resultado)"
   ]
  },
  {
   "cell_type": "markdown",
   "id": "8ce33e6b",
   "metadata": {},
   "source": [
    "### Actividad 6:\n",
    "\n",
    "Escribir un programa que almacene el abecedario en una lista, elimine de la lista las letras que ocupen posiciones múltiplos de 3, y muestre por pantalla la lista resultante."
   ]
  },
  {
   "cell_type": "code",
   "execution_count": null,
   "id": "b07326e2",
   "metadata": {},
   "outputs": [
    {
     "name": "stdout",
     "output_type": "stream",
     "text": [
      "Lista resultante: ['a', 'b', 'd', 'e', 'g', 'h', 'j', 'k', 'm', 'n', 'p', 'q', 's', 't', 'v', 'w', 'y', 'z']\n"
     ]
    }
   ],
   "source": [
    "\n",
    "# todo:\n",
    "\n",
    "\n",
    "abecedario = ['a', 'b', 'c', 'd', 'e', 'f', 'g', 'h', 'i', 'j', 'k', 'l', 'm', 'n', 'o', 'p', 'q', 'r','s', 't', 'u', 'v', 'w', 'x', 'y', 'z']\n",
    "\n",
    "\n",
    "resultado = []\n",
    "\n",
    "\n",
    "i = 0\n",
    "while i < len(abecedario):\n",
    "    if (i + 1) % 3 != 0: #Evalua la posicion del elemento y si es multiplo de 3 lo elimina\n",
    "        resultado.append(abecedario[i])\n",
    "    i += 1\n",
    "\n",
    "print(\"Lista resultante:\", resultado)\n"
   ]
  },
  {
   "cell_type": "markdown",
   "id": "5bfeb4b5",
   "metadata": {},
   "source": [
    "### Actividad 7:\n",
    "\n",
    "Escribir un programa que pida al usuario una palabra y muestre por pantalla si es un palíndromo (una palabra que se escribe de la misma forma al derecho y al reves)."
   ]
  },
  {
   "cell_type": "code",
   "execution_count": 39,
   "id": "2365afcc",
   "metadata": {},
   "outputs": [
    {
     "name": "stdout",
     "output_type": "stream",
     "text": [
      "Es un palindromo\n"
     ]
    }
   ],
   "source": [
    "\n",
    "# todo:\n",
    "\n",
    "palabra = input(\"Ingresa una palabra: \").lower()\n",
    "\n",
    "\n",
    "if palabra == palabra[::-1]: #Evalua si la palabra escriba es igual a esa misma palabra inversa\n",
    "    print(\"Es un palindromo\")\n",
    "else:\n",
    "    print(\"No es un palindromo\")\n"
   ]
  },
  {
   "cell_type": "markdown",
   "id": "ed8b51be",
   "metadata": {},
   "source": [
    "### Actividad 8:\n",
    "\n",
    "Teniendo en cuenta el conjunto 1 y el conjunto 2, sin usar el operador de intersección &, calcular la intersección de dichos conjuntos."
   ]
  },
  {
   "cell_type": "code",
   "execution_count": null,
   "id": "21a434b9",
   "metadata": {},
   "outputs": [
    {
     "name": "stdout",
     "output_type": "stream",
     "text": [
      "Intersección: {3, 4}\n"
     ]
    }
   ],
   "source": [
    "conjunto1 = {1, 2, 3, 4}\n",
    "conjunto2 = {3, 4, 5, 6}\n",
    "# todo:\n",
    "\n",
    "interseccion = set()#Variable donde se guardan los elementos que esteen en dos conjuntos\n",
    "\n",
    "for elemento in conjunto1: #Recorremos los conjuntos y si encontramos un elemento repetido lo añadimos al conjunto de interseccion\n",
    "    if elemento in conjunto2:\n",
    "        interseccion.add(elemento)\n",
    "\n",
    "print(\"Interseccion:\", interseccion)"
   ]
  },
  {
   "cell_type": "markdown",
   "id": "31b460dc",
   "metadata": {},
   "source": [
    "### Actividad 9:\n",
    "Eliminar duplicados de una lista usando un set."
   ]
  },
  {
   "cell_type": "code",
   "execution_count": null,
   "id": "0ef62008",
   "metadata": {},
   "outputs": [
    {
     "name": "stdout",
     "output_type": "stream",
     "text": [
      "[1, 2, 2, 3, 4, 4, 5]\n",
      "Lista sin duplicados:  {1, 2, 3, 4, 5}\n"
     ]
    }
   ],
   "source": [
    "\n",
    "# todo:\n",
    "lista = [1, 2, 2, 3, 4, 4, 5]\n",
    "\n",
    "lista2 = set(lista) # Convertimos la lista a un conjunto para eliminar los duplicados\n",
    "\n",
    "print(lista)\n",
    "print(\"Lista sin duplicados: \", lista2)\n",
    "\n"
   ]
  },
  {
   "cell_type": "markdown",
   "id": "075f1f2c",
   "metadata": {},
   "source": [
    "### Actividad 10:\n",
    "\n",
    "Escribir un programa que cree 2 matrices y realice su multiplicacion."
   ]
  },
  {
   "cell_type": "code",
   "execution_count": null,
   "id": "4c1fd0e1",
   "metadata": {},
   "outputs": [],
   "source": [
    "\n",
    "# todo:\n",
    "\n",
    "\n",
    "filas1 = int(input(\"Ingrese la cantidad de filas de la primera matriz: \"))\n",
    "columnas1 = int(input(\"Ingrese la cantidad de columnas de la primera matriz: \"))\n",
    "columnas2 = int(input(\"Ingrese la cantidad de columnas de la segunda matriz: \"))\n",
    "\n",
    "\n",
    "matriz1 = [[1 for _ in range(columnas1)] for _ in range(filas1)]\n",
    "matriz2 = [[1 for _ in range(columnas2)] for _ in range(columnas1)]\n",
    "\n",
    "\n",
    "resultado = [[0 for _ in range(columnas2)] for _ in range(filas1)]\n",
    "\n",
    "\n",
    "for i in range(filas1):\n",
    "    for j in range(columnas2):\n",
    "        for k in range(columnas1):\n",
    "            resultado[i][j] += matriz1[i][k] * matriz2[k][j]\n",
    "\n",
    "\n",
    "print(\"Resultado de la multiplicacion:\")\n",
    "for fila in resultado:\n",
    "    print(fila)\n"
   ]
  }
 ],
 "metadata": {
  "kernelspec": {
   "display_name": "Python 3",
   "language": "python",
   "name": "python3"
  },
  "language_info": {
   "codemirror_mode": {
    "name": "ipython",
    "version": 3
   },
   "file_extension": ".py",
   "mimetype": "text/x-python",
   "name": "python",
   "nbconvert_exporter": "python",
   "pygments_lexer": "ipython3",
   "version": "3.13.2"
  }
 },
 "nbformat": 4,
 "nbformat_minor": 5
}
